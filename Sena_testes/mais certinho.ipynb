{
 "cells": [
  {
   "cell_type": "code",
   "execution_count": null,
   "metadata": {},
   "outputs": [
    {
     "name": "stdout",
     "output_type": "stream",
     "text": [
      "Arquivo CSV com 1000 jogos gerado com sucesso.\n"
     ]
    }
   ],
   "source": [
    "import csv\n",
    "import random\n",
    "\n",
    "# Função para gerar um jogo com 20 números aleatórios e não repetidos entre 1 e 60\n",
    "def generate_game():\n",
    "    return random.sample(range(1, 61), 20)\n",
    "\n",
    "# Caminho para o arquivo de saída\n",
    "output_file = 'c:/Users/RODRIGO/Desktop/Sena/Sena_testes/random_games.csv'\n",
    "n = 100  # Defina o valor de n conforme necessário\n",
    "\n",
    "# Gerar n jogos e escrever no arquivo CSV\n",
    "with open(output_file, 'w', newline='') as csvfile:\n",
    "    writer = csv.writer(csvfile, delimiter=',', quoting=csv.QUOTE_MINIMAL)\n",
    "    for _ in range(n):\n",
    "        jogo = generate_game()\n",
    "        formatted_row = ','.join(map(str, jogo))\n",
    "        writer.writerow([formatted_row])\n",
    "\n",
    "print(f\"Arquivo CSV com {n} jogos gerado com sucesso.\")"
   ]
  },
  {
   "cell_type": "code",
   "execution_count": 7,
   "metadata": {},
   "outputs": [
    {
     "name": "stdout",
     "output_type": "stream",
     "text": [
      "Arquivo maisCertos.csv gerado com sucesso.\n"
     ]
    }
   ],
   "source": [
    "import csv\n",
    "\n",
    "# Caminhos para os arquivos\n",
    "combinacoes_file = 'c:/Users/RODRIGO/Desktop/Sena/Sena_testes/random_games.csv'\n",
    "resultados_file = 'c:/Users/RODRIGO/Desktop/Sena/Sena_testes/resultados_formatados.csv'\n",
    "output_file = 'c:/Users/RODRIGO/Desktop/Sena/Sena_testes/maisCertos.csv'\n",
    "\n",
    "# Ler as combinações do arquivo combinacoes.csv\n",
    "combinacoes = []\n",
    "with open(combinacoes_file, 'r') as csvfile:\n",
    "    reader = csv.reader(csvfile)\n",
    "    next(reader)  # Pular o cabeçalho\n",
    "    for row in reader:\n",
    "        combinacoes.append(set(map(int, row[0].split(','))))\n",
    "\n",
    "# Inicializar um dicionário para contar os acertos\n",
    "acertos_dict = {tuple(combinacao): 0 for combinacao in combinacoes}\n",
    "\n",
    "# Processar os resultados e contar os acertos\n",
    "with open(resultados_file, 'r') as csvfile:\n",
    "    reader = csv.reader(csvfile)\n",
    "    next(reader)  # Pular o cabeçalho\n",
    "    for row in reader:\n",
    "        # Dividir a string em valores individuais e converter para inteiros\n",
    "        resultado = set(map(int, row[0].split(',')))\n",
    "        for combinacao in combinacoes:\n",
    "            if resultado.issubset(combinacao):\n",
    "                acertos_dict[tuple(combinacao)] += 1\n",
    "\n",
    "# Filtrar as combinações com mais acertos\n",
    "mais_acertos = {k: v for k, v in acertos_dict.items() if v > 0}\n",
    "\n",
    "# Escrever os resultados no arquivo maisCertos.csv\n",
    "with open(output_file, 'w', newline='') as csvfile:\n",
    "    writer = csv.writer(csvfile)\n",
    "    writer.writerow(['Combinação', 'Acertos'])\n",
    "    for combinacao, acertos in sorted(mais_acertos.items(), key=lambda item: item[1], reverse=True):\n",
    "        writer.writerow([','.join(map(str, combinacao)), acertos])\n",
    "\n",
    "print(\"Arquivo maisCertos.csv gerado com sucesso.\")"
   ]
  }
 ],
 "metadata": {
  "kernelspec": {
   "display_name": "Python 3",
   "language": "python",
   "name": "python3"
  },
  "language_info": {
   "codemirror_mode": {
    "name": "ipython",
    "version": 3
   },
   "file_extension": ".py",
   "mimetype": "text/x-python",
   "name": "python",
   "nbconvert_exporter": "python",
   "pygments_lexer": "ipython3",
   "version": "3.12.4"
  }
 },
 "nbformat": 4,
 "nbformat_minor": 2
}
